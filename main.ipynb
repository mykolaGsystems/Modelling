{
 "cells": [
  {
   "cell_type": "code",
   "execution_count": 1,
   "metadata": {},
   "outputs": [],
   "source": [
    "import numpy as np\n",
    "import matplotlib.pyplot as plt\n",
    "from ecolab3.environment import Environment\n",
    "from ecolab3.agents import Fish, Pathogen\n",
    "from ecolab3 import draw_animation, run_ecolab, get_agent_counts"
   ]
  },
  {
   "cell_type": "code",
   "execution_count": 2,
   "metadata": {},
   "outputs": [
    {
     "name": "stderr",
     "output_type": "stream",
     "text": [
      "/home/mykola/Univeristy/Modelling/Medelling/ecolab3/agents.py:224: RuntimeWarning: divide by zero encountered in double_scalars\n",
      "  infection_chance = (1/proximity) * pathogen.get_infection_rate()\n"
     ]
    }
   ],
   "source": [
    "env = Environment(shape=[100,100])\n",
    "\n",
    "agents = []\n",
    "#create agents (rabbits and foxes)\n",
    "Nfish = 40\n",
    "\n",
    "NPathogen = 20\n",
    "for i in range(Nfish):\n",
    "    f = Fish(position=env.get_random_location(),speed=5)\n",
    "    agents.append(f)\n",
    "\n",
    "for i in range(NPathogen):\n",
    "    f = Pathogen(position=env.get_random_location(),speed=0)\n",
    "    agents.append(f)\n",
    "\n",
    "record = run_ecolab(env,agents,Niterations=50)\n",
    "# anim = draw_animation(fig,record[::5],5) #draw every 5th frame"
   ]
  },
  {
   "cell_type": "code",
   "execution_count": 3,
   "metadata": {},
   "outputs": [
    {
     "data": {
      "image/png": "[encoded data removed]",
      "text/plain": [
       "<Figure size 576x288 with 1 Axes>"
      ]
     },
     "metadata": {
      "needs_background": "light"
     },
     "output_type": "display_data"
    }
   ],
   "source": [
    "counts = get_agent_counts(record)\n",
    "plt.figure(figsize=[8,4])\n",
    "plt.plot(counts[:,0],label='fish')\n",
    "plt.legend()\n",
    "plt.grid()\n",
    "plt.xlabel('Iteration')\n",
    "plt.ylabel('Count')\n",
    "plt.show()"
   ]
  },
  {
   "cell_type": "code",
   "execution_count": null,
   "metadata": {},
   "outputs": [],
   "source": [
    "fig = plt.figure( figsize=(8,8) )\n",
    "# print(record[0])\n",
    "draw_animation(fig,record[::5],5,saveto='test_anim.mp4') #draw every 5th frame"
   ]
  },
  {
   "cell_type": "code",
   "execution_count": null,
   "metadata": {},
   "outputs": [],
   "source": []
  },
  {
   "cell_type": "code",
   "execution_count": null,
   "metadata": {},
   "outputs": [],
   "source": []
  }
 ],
 "metadata": {
  "interpreter": {
   "hash": "916dbcbb3f70747c44a77c7bcd40155683ae19c65e1c03b4aa3499c5328201f1"
  },
  "kernelspec": {
   "display_name": "Python 3 (ipykernel)",
   "language": "python",
   "name": "python3"
  },
  "language_info": {
   "codemirror_mode": {
    "name": "ipython",
    "version": 3
   },
   "file_extension": ".py",
   "mimetype": "text/x-python",
   "name": "python",
   "nbconvert_exporter": "python",
   "pygments_lexer": "ipython3",
   "version": "3.8.10"
  }
 },
 "nbformat": 4,
 "nbformat_minor": 2
}
